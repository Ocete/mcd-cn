{
 "cells": [
  {
   "cell_type": "markdown",
   "id": "0ac98537",
   "metadata": {},
   "source": [
    "%%html\n",
    "<style>\n",
    "    .exercise {\n",
    "        background-color: #AFEEEE;\n",
    "        font-style: normal;\n",
    "        text-align: justify;\n",
    "        margin-left: 0px;\n",
    "        margin-right: 10px;\n",
    "        margin-top: 10px;\n",
    "        margin-bottom: 0px;\n",
    "        display: block;\n",
    "    }\n",
    "</style>"
   ]
  },
  {
   "cell_type": "markdown",
   "id": "01c6a0a9",
   "metadata": {},
   "source": [
    "<center style=\"font-size:20px;padding-bottom:10px;\">Máster en Ciencia de Datos -  Universidad Autónoma de Madrid</center>\n",
    "\n",
    "<center style=\"font-size:20px;padding-bottom:10px;\">José Antonio Álvarez Ocete</center>\n",
    "\n",
    "<center style=\"font-size:20px;\">Francisco Javier Sáez Maldonado</center>"
   ]
  },
  {
   "cell_type": "code",
   "execution_count": 2,
   "id": "77f91b10",
   "metadata": {},
   "outputs": [],
   "source": [
    "from scipy.stats import beta\n",
    "from scipy.special import binom\n",
    "import matplotlib.pyplot as plt\n",
    "import numpy as np\n",
    "import scipy"
   ]
  },
  {
   "cell_type": "markdown",
   "id": "a6b7d587",
   "metadata": {},
   "source": [
    "\n",
    "# Introducción\n",
    "\n",
    "\n",
    "En un *enfoque bayesiano* de la estadística, un parámetro $\\theta$ se\n",
    "considera una variable aleatoria con una determinada distribución de\n",
    "probabilidad. El teorema de Bayes relaciona la información inicial que\n",
    "se tiene del parámetro $\\theta$ antes de realizar un experimento y la\n",
    "información que se dispone después de realizar el experimento.\n",
    "\n",
    "-   La información inicial que se tiene sobre $\\theta$ se representa\n",
    "    mediante su *distribución a priori* $\\pi(\\theta)$\n",
    "\n",
    "-   La información que se tiene de $\\theta$ después de realizar uno\n",
    "    (o varios) experimento/s, $x$, se codifica mediante su\n",
    "    *distribución a posteriori* $\\pi(\\theta | x)$.\n",
    "\n",
    "-   El teorema de Bayes nos permite obtener la densidad de probabilidad\n",
    "    $\\pi(\\theta | x)$ en función del resultado del experimento y la\n",
    "    densidad de probabilidad a priori $\\pi(\\theta)$\n",
    "\n",
    "$$\n",
    "    \\pi(\\theta | x) = \\frac{ \\pi(x | \\theta) } { \\int_{-\\infty}^{\\infty} \\pi(x | \\theta) \\pi(\\theta) \\; d\\theta} \\; \\pi(\\theta)\n",
    "$$\n",
    "\n",
    "-   La cantidad $\\pi(x | \\theta)$ del numerador se denomina\n",
    "    *verosimilitud* (*likelihood*). Es una **función** y representa la\n",
    "    probabilidad de observar el resultado del experimento $x$\n",
    "    (muestra) en función del valor del parámetro $\\theta$\n",
    "\n",
    "    $$ \\pi(x | \\theta) = \\prod_i f(x_i | \\theta) $$\n",
    "\n",
    "    siendo $x_i$ con $i=1, \\ldots, n$ los resultados del\n",
    "    experimento (valores muestrales) y $f(x_i | \\theta)$ sus\n",
    "    probabilidades para un determinado valor de $\\theta$.\n",
    "\n",
    "-   El denominador $\\int_{-\\infty}^{\\infty} \\pi(x | \\theta)\n",
    "    \\pi(\\theta) \\; d\\theta$, una vez realizada la integración,\n",
    "    **no** depende del parámetro $\\theta$. Es una constante de\n",
    "    normalización.\n",
    "\n",
    "-   Para realizar previsiones se utilizan *distribuciones predictivas*\n",
    "    (valor esperado de una determinada función)\n",
    "\n",
    "$$\n",
    "    E[ g(y|x) ] = \\int g(y| \\theta) \\; \\pi(\\theta | x)\\; d\\theta\n",
    "$$\n",
    "\n",
    "Por ejemplo, es habitual usar como *predictor* del valor de la v.a\n",
    "    $\\theta$ su valor esperado: $$ \\widehat{\\theta} = \\int\n",
    "    \\theta \\; \\pi(\\theta | x) \\; d\\theta $$\n",
    "\n",
    "    \n",
    "-   Cuando las distribuciones a priori y a posteriori son del mismo tipo\n",
    "    se dice que son \"conjugadas a priori\". A menudo esto implica grandes\n",
    "    beneficios desde el punto de vista computacional.\n",
    "\n",
    "\n",
    "-   La descripción formal de la inferencia bayesiana es sencilla, sin\n",
    "    embargo su implementación **habitualmente no es fácil** y requiere\n",
    "    Métodos de Monte Carlo."
   ]
  },
  {
   "cell_type": "markdown",
   "id": "be16c91c",
   "metadata": {},
   "source": [
    "\n",
    "<div class=\"exercise\">\n",
    "<h1>Ejercicio 1</h1> <a href='#Ejercicio-1' class='anchor-link'>¶</a>\n",
    "\n",
    "Estimar la probabilidad de que un paciente ingresado\n",
    "en planta acabe en la UCI. Para realizar este problema mediante\n",
    "inferencia Bayesiana debemos tener en cuenta: \n",
    "* La probabilidad de que un paciente ingresado en planta acabe en la UCI será nuestro parámetro\n",
    "$\\theta$. Como hemos visto, en el enfoque bayesiano debemos\n",
    "considerar que $\\theta$ es una variable aleatoria. \n",
    "* Debemos conocer\n",
    "la distribución de la v.a $\\theta$ **antes** de realizar el\n",
    "experimento, es decir su *densidad de probabilidad a priori*\n",
    "$\\pi(\\theta)$. Supongamos, por ejemplo, que $\\pi(\\theta) =\n",
    "B(\\theta | \\alpha = 5, \\beta = 10)$. \n",
    "* Debemos incorporar el\n",
    "resultado del experimento. Considerad el siguiente experimento: se\n",
    "contabiliza cuantos de los pacientes que hay en planta ($n$) deben\n",
    "ingresar en la UCI ($k$). Se observa que de los $n=20$ pacientes en\n",
    "planta $k=1$ ingresan en la UCI. \n",
    "* Debemos calcular la función de\n",
    "verosimilitud $\\pi(x | \\theta)$ del resultado del experimento. La\n",
    "función de verosimilitud será proporcional a la probabilidad de observar\n",
    "el resultado del experimento en función del valor de $\\theta$): $$\n",
    "\\pi(x | \\theta) \\propto \\theta^k (1-\\theta)^{n-k} $$ donde, en\n",
    "este caso, habría que substituir $n=20$ y $k=1$. Notad como en la\n",
    "ecuación anterior $\\pi(x|\\theta)$ **no** está normalizada. \n",
    "* Debemos elegir un *predictor* adecuado a nuestro problema. Como\n",
    "predictor de $\\theta$ *la probabilidad de que un paciente de la\n",
    "planta acabe en la UCI* utilizaremos su valor esperado\n",
    "$E[\\theta]$. Nos preguntarnos entonces:\n",
    "\n",
    "    1. ¿Cuál es el valor de $E[\\theta]$ **antes** de realizar el experimento? \n",
    "    2. ¿Cuál es el valor de $E[\\theta]$ **después** de observar el resultado del experimento?\n",
    "\n",
    "   \n",
    "* **Ayuda** La pregunta (1) es fácil. Al ser la distribución a priori $\\pi(\\theta)$ la distribución $Beta$, su valor esperado será\n",
    "    $$ \\mu_{\\text{prior}} = E[\\theta]_{\\text{prior}} = \\int_{-\\infty}^{\\infty} \\theta \\; B(\\theta | \\alpha, \\beta) \\; d\\theta = \\frac{\\alpha}{\\alpha + \\beta} $$\n",
    "    \n",
    "* Para la pregunta (2) se debe calcular: $$ \\mu_{\\text{posterior}}= E[\\theta]_{\\text{posterior}} = \\int_{-\\infty}^{\\infty} \\theta \\; \\pi(\\theta | x) \\; d\\theta $$\n",
    "Para ello se necesita conocer la distribución a posteriori $\\pi(\\theta | x)$. Utilizando el teorema de Bayes, tras re-ordenar términos se obtiene: \n",
    "\n",
    "<!---\n",
    "\\begin{align*} \n",
    "    E[\\theta]_{\\text{posterior}} &=\n",
    "    \\int_{-\\infty}^{\\infty} \\theta \\; \\pi(\\theta | x) \\; d \\theta \n",
    "    \\ &= \\int_{-\\infty}^{\\infty} \\theta \\; \\frac{ \\pi(x |\n",
    "    \\theta) \\; \\pi(\\theta) } { \\int_{-\\infty}^{\\infty} \\pi(x |\n",
    "    \\theta) \\pi(\\theta) \\; d \\theta} \\; d \\theta = \\frac{\n",
    "    \\int_{-\\infty}^{\\infty} \\theta \\; \\pi(x | \\theta) \\;\n",
    "    \\pi(\\theta) \\; d \\theta } { \\int_{-\\infty}^{\\infty} \\pi(x |\n",
    "    \\theta) \\; \\pi(\\theta) \\; d \\theta} \n",
    "    \\ &= \\frac{\\int_{-\\infty}^{\\infty} \\theta \\; \\theta^k\n",
    "    (1-\\theta)^{n-k} \\; \\; \\pi(\\theta) \\; d \\theta } {\n",
    "    \\int_{-\\infty}^{\\infty} \\pi(x | \\theta) \\; \\pi(\\theta) \\;\n",
    "    \n",
    "    d \\theta} = \\frac{ \\int_{0}^{1} \\; \\theta^{k+1} (1-\\theta)^{n-k}\n",
    "    \\; \\; B(\\theta | \\alpha=5, \\beta=10) \\; d \\theta } {\n",
    "    \\int_{0}^{1} \\theta^{k} (1-\\theta)^{n-k} \\; B(\\theta | \\alpha=5,\n",
    "    \\beta=10) \\; d \\theta}\n",
    "\\end{align*} \n",
    "\n",
    "donde se han sustituído los\n",
    "valores de $\\pi(\\theta)$ y de la verosimilitud $\\pi(x | \\theta)$\n",
    ". Sino supiésemos resolver analíticamente las integrales anteriores (en\n",
    "este caso sí hay solución analítica aunque no es fácil) podemos\n",
    "**estimar** el numerador y el denominador mediante integración de\n",
    "Monte Carlo.  --->\n",
    "</div>"
   ]
  },
  {
   "cell_type": "markdown",
   "id": "590e7b36",
   "metadata": {},
   "source": [
    "### Solución\n",
    "\n",
    "Para este ejercicio estimaremos la probabilidad de que un paciente ingresado en planta sea trasladado a UCI, que denominaremos por $\\theta$. Para ello lo tratamos como una variable aleatoria como hace el enfoque Bayesiano. Consideramos:\n",
    "\n",
    "- La distribución a priori será una beta de parámetros $\\alpha=5, \\beta=10$:\n",
    "\n",
    "$$\\pi(\\theta) = B(\\theta | \\alpha = 5, \\beta = 10)$$\n",
    "\n",
    "- El experimento realizado revela que de los $n=20$ pacientes estudiados, unicamente $k=1$ ha sido trasladado a la UCI. La función de verosimilitud será la probabilidad de observar el resultado del experimento dado $\\theta$. Esta variable aleatoria sigue una distribución binomial con parámetros $n=20$ y $p=\\theta$:\n",
    "\n",
    "$$\\pi(x|\\theta) = P_k = \\binom{n}{k} \\theta^k (1 - \\theta)^{n-k} $$\n",
    "\n",
    "En el caso de nuestro experimento:\n",
    "\n",
    "$$\\pi(x|\\theta) = P_1 = \\binom{20}{1} \\theta^1 (1 - \\theta)^{20-1} = 20 \\cdot \\theta (1 - \\theta)^{19}$$ \n",
    "\n",
    "Daremos dos predicciones del valor de $\\theta$:\n",
    "\n",
    "1. ¿Cuál es el valor de $E[\\theta]$ **antes** de realizar el experimento?\n",
    "2. ¿Cuál es el valor de $E[\\theta]$ **después** de observar el resultado del experimento?\n",
    "\n",
    "### Respuestas\n",
    "\n",
    "- La pregunta (1) es sencilla: puesto que $\\theta$ sigue una distribución beta con parámetros conocidos, basta con calcular la esperanza de dicha distribución:\n",
    "\n",
    "\\begin{equation*}\n",
    "    \\mu_{\\text{prior}} = E[\\theta]_{\\text{prior}} = \\int_{-\\infty}^{\\infty} \\theta  \\; B(\\theta | \\alpha, \\beta) \\;  d\\theta =  \\frac{\\alpha}{\\alpha + \\beta}\n",
    "\\end{equation*}\n",
    "\n",
    "Vamos a demostrar este hecho. Lo primero es recordar que la función beta $B:\\mathbb C \\to \\mathbb C$ se define como:\n",
    "$$\n",
    "B(\\alpha,\\beta) = \\int_0^1 t^{\\alpha-1}(1-t)^{\\beta-1}dt = \\dfrac{\\Gamma(\\alpha)\\Gamma(\\beta)}{\\Gamma(\\alpha+\\beta)}\n",
    "$$\n",
    "y que, si $a \\in \\mathbb N$, entonces $\\Gamma(a) = (a-1)!$. Usando esto, podemos ver que si $X\\sim B(\\alpha,\\beta)$, entonces:\n",
    "\\begin{align*}\n",
    "E[X] & = \\int_{-\\infty}^{+\\infty} x f_X dx \\\\\n",
    "& = \\int_{-\\infty}^{+\\infty} x \\left( \\frac{x^{\\alpha-1}(1-x)^{\\beta-1}}{B(\\alpha,\\beta)} \\right) dx\\\\\n",
    "& = \\frac{1}{B(\\alpha,\\beta)} \\int_{-\\infty}^{+\\infty}x^{\\alpha}(1-x)^{\\beta-1}dx\\\\\n",
    "& = \\frac{B(\\alpha + 1,\\beta)}{B(\\alpha,\\beta)}\\\\\n",
    "& = \\frac{\\Gamma(\\alpha+1) \\Gamma(\\beta)}{\\Gamma(\\alpha + \\beta + 1)} \\frac{\\Gamma(\\alpha + \\beta)}{\\Gamma(\\alpha)\\Gamma(\\beta)}\\\\\n",
    "& = \\frac{\\alpha!}{(\\alpha+\\beta)!} \\frac{(\\alpha+\\beta-1)!}{(\\alpha-1)!}\\\\\n",
    "& = \\frac{\\alpha}{\\alpha + \\beta}\n",
    "\\end{align*}\n",
    "\n",
    "\n",
    "- Para la pregunta (2) hemos de tener en cuenta los resultados del experimento desde el punto de vista Bayesiano. Utilizando el teorema de Bayes comentado en la introducción obtenemos:\n",
    "\n",
    "\\begin{align*}\n",
    "    E[\\theta]_{\\text{posterior}} &= \n",
    "    \\int_{-\\infty}^{\\infty} \\theta \\;  \\pi(\\theta | x)  \\; d\\theta \\\\\n",
    "                    &= \\int_{-\\infty}^{\\infty} \\theta \\;     \n",
    "    \\frac{ \\pi(x | \\theta) \\; \\pi(\\theta) }\n",
    "    { \\int_{-\\infty}^{\\infty}  \\pi(x | \\theta) \\pi(\\theta) \\; d\\theta} \n",
    "    \\;  d\\theta  = \n",
    "    \\frac{ \\int_{-\\infty}^{\\infty} \\theta  \\; \\pi(x | \\theta) \\; \\pi(\\theta) \\;  d\\theta }\n",
    "        { \\int_{-\\infty}^{\\infty}            \\pi(x | \\theta) \\; \\pi(\\theta) \\; d\\theta} \\\\\n",
    "    &= \\frac{\\int_{-\\infty}^{\\infty} \\theta  \\; \\theta^k (1-\\theta)^{n-k}  \\; \\; \\pi(\\theta) \\; d\\theta }\n",
    "    { \\int_{-\\infty}^{\\infty}  \\pi(x | \\theta) \\; \\pi(\\theta) \\; d\\theta}  =\n",
    "    \\frac{ \\int_{0}^{1}  \\; \\theta^{k+1} (1-\\theta)^{n-k}  \\; \\; B(\\theta| \\alpha=5, \\beta=10) \\; d\\theta }\n",
    "    { \\int_{0}^{1}   \\theta^{k} (1-\\theta)^{n-k} \\; B(\\theta| \\alpha=5, \\beta=10) \\; d\\theta} \n",
    "\\end{align*}\n",
    "\n",
    "Para obtener este valor podemos o bien resolver analíticamente estas integrales, o bien estimarlas utilizando métodos de MonteCarlo. Puede probarse (TODO) que en este caso la expresión de $\\pi(\\theta | x)$ es cerrada (esto es, las distribuciones son conjugadas a priori). $\\pi(\\theta | x)$ viene dada por una distribución beta de parámetros $B(\\alpha + k, \\beta + n - k)$. Por lo tanto, la respuesta a la segunda pregunta es la esperanza de esta distribución beta:\n",
    "\n",
    "\\begin{equation*}\n",
    "    \\mu_{\\text{posterior}} = E[\\theta]_{\\text{posterior}} = \\int_{-\\infty}^{\\infty} \\theta  \\; B(\\theta | \\alpha + k, \\beta + n - k) \\;  d\\theta =  \\frac{\\alpha + k}{\\alpha + k + \\beta + n - k} = \\frac{\\alpha + k}{\\alpha + \\beta + n}\n",
    "\\end{equation*}"
   ]
  },
  {
   "cell_type": "markdown",
   "id": "9d624add",
   "metadata": {},
   "source": [
    "### Implementación\n",
    "\n",
    "Procedemos a dibujar las distribuciones de probabilidad para $\\theta$ a priori, posteriori, y la verosimilitud. Como la verosimilitud no es una distribución de probabilidad, vamos a normalizarla (multiplicar por una constante para que integre uno en $(0,1)$). Para ello, calculamos su integral en $(0,1)$:\n",
    "\n",
    "$$\n",
    "    \\int_0^1 \\pi(x | \\theta) d\\theta =  \\int_0^1 \\binom{n}{k} \\theta^k (1 - \\theta)^{n-k} d\\theta =  \\binom{n}{k} \\int_0^1 \\theta^k (1 - \\theta)^{n-k} d\\theta\n",
    "$$\n",
    "\n",
    "Esto es una integral polinómica, que puedes ser resuelta fácilmente si nos damos cuenta de lo siguiente:\n",
    "$$\n",
    "\\binom{n}{k} \\int_0^1 \\theta^k (1 - \\theta)^{n-k} d\\theta = \\binom{n}{k} B(k,n-k+1) \\int_0^1 \\theta \\ \\frac{\\theta^{k-1}(1-\\theta)^{n-k}}{B(k,n-k+1)} d\\theta = \\binom{n}{k} B(k,n-k+1) E_\\theta[X]\n",
    "$$\n",
    "\n",
    "con $X \\sim B(k,n-k+1)$ y $B$ la función beta. Con esto, obtenemos:\n",
    "\n",
    "$$\n",
    "\\binom{n}{k} B(k,n-k+1) E_\\theta[X] = \\frac{n!}{k!(n-k)!}\\frac{\\Gamma(k) \\Gamma(n-k+1)}{\\Gamma(k+n-k+1)} \\frac{k}{n+1}\n",
    "= \\frac{n!}{k!(n-k)!}\\frac{\\Gamma(k) \\Gamma(n-k+1)}{\\Gamma(n+1)} \\frac{k}{n+1} = \\frac{n!}{k!(n-k)!}\\frac{k}{n+1} \\frac{(k-1)!(n-k)!}{n!}\n",
    "$$\n",
    "\n",
    "Se cancelan todos los términos salvo uno y obtenemos\n",
    "\n",
    "$$\n",
    "\\binom{n}{k} \\int_0^1 \\theta^k (1 - \\theta)^{n-k} d\\theta = \\frac{1}{n+1}\n",
    "$$\n",
    "Por lo tanto, para convertir a la máxima verosimilutd $\\pi(x | \\theta)$ en una distribución de probabilidad de $\\theta$ basta con multiplicarla por $(n+1)$.\n",
    "\n"
   ]
  },
  {
   "cell_type": "code",
   "execution_count": 4,
   "id": "e51ab42e",
   "metadata": {},
   "outputs": [
    {
     "name": "stdout",
     "output_type": "stream",
     "text": [
      "Expected probability a priori: 0.333333\n",
      "Expected probability a posterior: 0.171429\n",
      "Experimento:\n",
      " Total pacientes: 20  UCI: 1\n"
     ]
    },
    {
     "data": {
      "image/png": "[encoded data removed]",
      "text/plain": [
       "<Figure size 432x288 with 1 Axes>"
      ]
     },
     "metadata": {
      "needs_background": "light"
     },
     "output_type": "display_data"
    }
   ],
   "source": [
    "def plot_beta(a, b):\n",
    "    x = np.arange(0, 1, 0.001)\n",
    "    y = beta.pdf(x, a, b)\n",
    "    plt.plot(x, y)\n",
    "\n",
    "def plot_likelihood(n, k):\n",
    "    x = np.arange(0, 1, 0.001)\n",
    "    b = binom(n, k)\n",
    "    y = (n+1) * b * x**k * (1-x)**(n-k)\n",
    "    plt.plot(x, y)\n",
    "\n",
    "def compute_beta_mean(a,b):\n",
    "    return a / (a + b)\n",
    "\n",
    "def plot_bayesian_viewpoint(n=20, k=1, a=5, b=10):\n",
    "    # Print numerical values\n",
    "    E_prior = compute_beta_mean(a,b)\n",
    "    E_posterior = compute_beta_mean(a + k, b + n - k)\n",
    "    print('Expected probability a priori: {:0.6f}'.format(E_prior))\n",
    "    print('Expected probability a posterior: {:0.6f}'.format(E_posterior))\n",
    "    print('Experimento:\\n Total pacientes: {}  UCI: {}'.format(n, k))\n",
    "\n",
    "    # Plotting\n",
    "    plot_beta(a, b)\n",
    "    plot_beta(a + k, b + n - k)\n",
    "    plot_likelihood(n, k)\n",
    "\n",
    "    plt.legend(['prior, π(θ)', 'posterior, π(θ|x)', 'likelihood, π(x|θ)'])\n",
    "    plt.title('Distribuciones de probabilidad para θ')\n",
    "    plt.show()\n",
    "\n",
    "plot_bayesian_viewpoint()"
   ]
  },
  {
   "cell_type": "markdown",
   "id": "d98f2aca",
   "metadata": {},
   "source": [
    "En esta grafica mostramos las distintas distribuciones de probabilidad teóricas comentadas. Podemos apreciar como la distribución a posterior queda intermedia entre la máxima verosimilitud (la predicción de máxima verosimilitud dado el experimento) y la distribución a priori."
   ]
  },
  {
   "cell_type": "markdown",
   "id": "f073a04e",
   "metadata": {},
   "source": [
    "<div class=\"exercise\">\n",
    "    <h2>Ejercicio 1.1</h2>\n",
    "\n",
    "¿Qué ocurre cuando aumenta el tamaño del experimento?\n",
    "</div>"
   ]
  },
  {
   "cell_type": "markdown",
   "id": "bbcdddd4",
   "metadata": {},
   "source": [
    "Repetimos el experimento anterior manteniendo los valores de $alpha$ y $beta$, y aumentamos $n$ y $k$ manteniendo el ratio de $1/20$ pacientes pasados a UCI: $(n=100, k=5)$:"
   ]
  },
  {
   "cell_type": "code",
   "execution_count": 3,
   "id": "becb65fc",
   "metadata": {},
   "outputs": [
    {
     "name": "stdout",
     "output_type": "stream",
     "text": [
      "Expected probability a priori: 0.333333\n",
      "Expected probability a posterior: 0.086957\n",
      "Experimento:\n",
      " Total pacientes: 100  UCI: 5\n"
     ]
    },
    {
     "data": {
      "image/png": "[encoded data removed]",
      "text/plain": [
       "<Figure size 432x288 with 1 Axes>"
      ]
     },
     "metadata": {
      "needs_background": "light"
     },
     "output_type": "display_data"
    }
   ],
   "source": [
    "plot_bayesian_viewpoint(n=100, k=5, a=5, b=10)"
   ]
  },
  {
   "cell_type": "markdown",
   "id": "26da5ef8",
   "metadata": {},
   "source": [
    "Vemos como la distribución a posterior se tiende a la máxima verosimilitud normalizada. Este coincide con la intuición, pues a más datos recogidos, más información nos aportan estos sobre el comportamiento real de nuestra variable. Analíticamente sabemos que nuestro estimador a posteriori viene dado por la siguiente expresión:\n",
    "\n",
    "\\begin{equation*}\n",
    "    \\mu_{\\text{posterior}} = E[\\theta]_{\\text{posterior}} = \\frac{\\alpha + k}{\\alpha + \\beta + n}\n",
    "\\end{equation*}\n",
    "\n",
    "Al hacer el experimento arbitrariamente grande manteniendo el ratio $k/n$ el valor del estimador converge a precisamente a este ratio. Es decir, al aumentar el tamaño del experimento, despreciamos la distribución a priori y la información que está nos aporta y covergemos al valor de máxima verosimilitud $k/n$."
   ]
  },
  {
   "cell_type": "markdown",
   "id": "7bd9132b",
   "metadata": {},
   "source": [
    "<div class=\"exercise\">\n",
    "    <h2>Ejercicio 1.3</h2>\n",
    "\n",
    "Realiza una simulación utilizando Monte Carlo para estimar el valor de $\\theta$.\n",
    "</div>"
   ]
  },
  {
   "cell_type": "markdown",
   "id": "d9bcab5f",
   "metadata": {},
   "source": [
    "Estimaremos el valor de $\\theta$ a posteriori, que como ha sido discutido viene dado por la siguiente expresión:\n",
    "\n",
    "$$\n",
    "    E[\\theta]_{\\text{posterior}} =\n",
    "    \\frac{ \\int_{0}^{1}  \\; \\theta^{k+1} (1-\\theta)^{n-k}  \\; \\; B(\\theta| \\alpha=5, \\beta=10) \\; d\\theta }\n",
    "    { \\int_{0}^{1}   \\theta^{k} (1-\\theta)^{n-k} \\; B(\\theta| \\alpha=5, \\beta=10) \\; d\\theta} \\equiv \\frac{\\text{Int}_\\text{num}}{\\text{Int}_\\text{den}}\n",
    "$$\n",
    "\n",
    "Para ellos hemos de estimar las integrales del numerador y del denominador. Utilizaremos el algoritmo basado en medias. Este dicta que, dada una variable aleatoria $X$ y una función $h$ podemos estimar su esperanza aplicada a $X$,\n",
    "\n",
    "$$\n",
    "    E [ h(x) ] = \\int_{\\Omega} h(x) \\, f(x) \\, dx,\n",
    "$$\n",
    "\n",
    "por la expresión\n",
    "\n",
    "$$\n",
    "    \\widehat{\\mu} = \\frac{1}{m} \\sum_{i=1}^{m} h \\left( X_i \\right)\n",
    "$$\n",
    "\n",
    "Para estimar sendas integrales definimos dos funciones:\n",
    "\n",
    "\\begin{align*}\n",
    "    h_1(\\theta) & = \\; \\theta^{k+1} (1-\\theta)^{n-k} \\quad & \\forall \\theta \\in [0,1] \\\\\n",
    "    h_2(\\theta) & = \\; \\theta^{k} (1-\\theta)^{n-k} \\quad & \\forall \\theta \\in [0,1]\n",
    "\\end{align*}\n",
    "\n",
    "De esta forma, si $\\theta \\sim B(\\theta| \\alpha=5, \\beta=10)$ obtenemos:\n",
    "\n",
    "\\begin{align*}\n",
    "    E[h_1(\\theta)] & = \\int_{\\Omega} h_1(x) \\, f(x) \\, dx = \\int_{0}^{1}  \\; \\theta^{k+1} (1-\\theta)^{n-k}  \\; \\; B(\\theta| \\alpha=5, \\beta=10) \\; d\\theta & = \\text{Int}_\\text{num} \\\\\n",
    "    E[h_2(\\theta)] & = \\int_{\\Omega} h_2(x) \\, f(x) \\, dx =\\int_{0}^{1}   \\theta^{k} (1-\\theta)^{n-k} \\; B(\\theta| \\alpha=5, \\beta=10) \\; d\\theta & = \\text{Int}_\\text{den}\n",
    "\\end{align*}\n",
    "\n",
    "Aplicando el algoritmo de las medias al numerador y al denominador obtenemos:\n",
    "\n",
    "$$\n",
    "    E[\\theta]_{\\text{posterior}} = \\frac{ E[h_1(\\theta)] }{ E[h_2(\\theta)] } \\approx \\frac{ \\frac{1}{m} \\sum_{i=1}^{m} h_1 ( X_i ) }{ \\frac{1}{m} \\sum_{i=1}^{m} h_2 ( X_i ) } \n",
    "    = \\frac{ \\sum_{i=1}^{m} h_1 ( X_i ) }{ \\sum_{i=1}^{m} h_2 ( X_i ) } \n",
    "$$\n",
    "\n",
    "Donde $X_1, \\ldots, X_m \\stackrel{\\text{iid}}{\\sim} B(\\theta| \\alpha=5, \\beta=10)$. Por lo tanto, bastará con generar $m$ muestras de una distribución $B(\\theta| \\alpha=5, \\beta=10)$ y computar la expresión anterior."
   ]
  },
  {
   "cell_type": "code",
   "execution_count": 61,
   "id": "a70acd98",
   "metadata": {},
   "outputs": [
    {
     "name": "stdout",
     "output_type": "stream",
     "text": [
      "total_std: [1.88155247e-07 4.03241609e-07 1.29933542e-06 1.54988636e-06\n",
      " 2.80831101e-06 3.69790529e-06 5.04323429e-06 5.80833027e-06\n",
      " 7.22704494e-06 8.62457995e-06]\n",
      "z size: -1.9599639845400545\n",
      "Interval size: [0.00000000e+00 1.20255472e-11 6.69989897e-10 5.83184695e-10\n",
      " 5.22933669e-10 4.78091039e-10 4.41956999e-10 4.13865830e-10\n",
      " 3.90516369e-10 3.70712266e-10]\n",
      "Expected probability a posterior: 0.086957\n"
     ]
    },
    {
     "data": {
      "image/png": "[encoded data removed]",
      "text/plain": [
       "<Figure size 864x432 with 1 Axes>"
      ]
     },
     "metadata": {
      "needs_background": "light"
     },
     "output_type": "display_data"
    }
   ],
   "source": [
    "np.random.seed(123)\n",
    "\n",
    "def estimate_theta(max_m=10**5, a=5, b=10, n=20, k=1):\n",
    "    # Sample from beta distribution\n",
    "    samples = np.random.beta(a, b, max_m)\n",
    "\n",
    "    # Apply h1 and h2 to the samples\n",
    "    h1 = np.array([ x**(k+1) * (1-x)**(n-k) for x in samples ])\n",
    "    h2 = np.array([ x**k * (1-x)**(n-k) for x in samples ])\n",
    "\n",
    "    # Compute the acumulative sums and the estimators\n",
    "    int_num = np.cumsum(h1)\n",
    "    int_den = np.cumsum(h2)\n",
    "    estimators = int_num / int_den\n",
    "\n",
    "    # Compute the relative error of the quotient\n",
    "    std1 = np.array([ np.std(h1[:i+1], ddof=1) if i != 0 else 0 for i,x in enumerate(h1) ])\n",
    "    std2 = np.array([ np.std(h2[:i+1], ddof=1) if i != 0 else 0 for i,x in enumerate(h2) ])\n",
    "    rel_error = abs(std1) + abs(std2)\n",
    "\n",
    "    # Compute the variance\n",
    "    samples_unif = np.random.uniform(0, 1, max_m)\n",
    "    h3 = np.array([ x * (x**k * (1-x)**(n-k) * beta.pdf(x, a, b) - estimated_mean )**2\n",
    "                      for x, estimated_mean\n",
    "                      in zip(samples_unif, int_num) ])\n",
    "    total_std = np.sqrt( 1 * np.cumsum(h3) / int_den * np.arange(1, len(int_den)+1)) \n",
    "    #rel_error = total_std\n",
    "    \n",
    "    print('total_std: {}'.format(total_std[:10]))\n",
    "\n",
    "    # Compute the estimators as the quotient of both estimations\n",
    "    return estimators, rel_error\n",
    "\n",
    "def plot_theta_estimation(max_m=7*10**3, a=5, b=10, n=100, k=5, alpha=0.05):\n",
    "    # Obtain estimatiors and relative errors\n",
    "    estimators, rel_error = estimate_theta(max_m=max_m, a=a, b=b, n=n, k=k)\n",
    "\n",
    "    # Compute the confidence intervals\n",
    "    z = scipy.stats.norm.ppf(alpha/2)\n",
    "    print('z size: {}'.format(z))\n",
    "    errors_z = [ 2 * abs(z) * rel_e / np.sqrt(i+1) for i, rel_e in enumerate(rel_error)] \n",
    "    intervals_min = estimators - errors_z\n",
    "    intervals_max = estimators + errors_z\n",
    "\n",
    "    print('Interval size: {}'.format( (intervals_max - intervals_min)[:10]))\n",
    "\n",
    "    # Plot\n",
    "    x = np.arange(1, max_m+1, 1)\n",
    "    plt.figure(figsize=(12,6))\n",
    "    plt.plot(x, estimators, color='b')\n",
    "    plt.hlines(y = compute_beta_mean(a + k, b + n - k), color =\"red\", linestyle =\"--\", xmin=0, xmax=max_m)\n",
    "    plt.fill_between(x, intervals_min, intervals_max, color='orange', alpha=.3)\n",
    "    plt.ylim([0,0.2])\n",
    "\n",
    "    # Print numerical values\n",
    "    print('Expected probability a posterior: {:0.6f}'.format(\n",
    "        compute_beta_mean(a + k, b + n - k))\n",
    "    )\n",
    "    \n",
    "\n",
    "plot_theta_estimation(alpha=0.05)\n"
   ]
  },
  {
   "cell_type": "markdown",
   "id": "9fb29d67",
   "metadata": {},
   "source": [
    "<div class=\"exercise\">\n",
    "    <h2>Ejercicio 1.4</h2>\n",
    "\n",
    "Responda a las siguientes cuestiones:\n",
    "- Por que se debe utilizar la misma muestra de  θ  en el numerador y denominador para estimar  μposterior ?\n",
    "- ¿Por que a la hora de hacer la simulación de M.C hemos podido utilizar una función sin normalizar proporcional a  π(x|θ)  eq. (5) y no  π(x|θ) ?\n",
    "</div>"
   ]
  },
  {
   "cell_type": "markdown",
   "id": "612cf213",
   "metadata": {},
   "source": [
    "<div class=\"exercise\">\n",
    "    <h2>Ejercicio 1.5</h2>\n",
    "\n",
    "Supón que no se dispone de un generador de números aleatorios para la distribución a priori (porqué o bien no dispones de un algoritmo o este es muy ineficaz) ¿Podrías estimar  μposterior ? Estima el valor de  μposterior  sin utilizar el generador de una muestra de Beta (por ejemplo utiliza una distribución  U(0,1) ). Discute el intervalo de confianza de la estimación.\n",
    "</div>"
   ]
  },
  {
   "cell_type": "markdown",
   "id": "9e442383",
   "metadata": {},
   "source": [
    "<div class=\"exercise\">\n",
    "    <h2>Ejercicio 2</h2>\n",
    "\n",
    "Estimar empíricamente la función de densidad de probabilidad a posteriori $\\pi(\\theta|x)$ del ejercicio anterior y validarla con el resultado teórico. Discutir los resultados.\n",
    "</div>"
   ]
  },
  {
   "cell_type": "code",
   "execution_count": null,
   "id": "f8693dbf",
   "metadata": {},
   "outputs": [],
   "source": []
  }
 ],
 "metadata": {
  "interpreter": {
   "hash": "327d94c82653bcbf1591f046bfaa83bb7ace16fe227fc7b230f02edc918e6ba7"
  },
  "kernelspec": {
   "display_name": "Python 3 (ipykernel)",
   "language": "python",
   "name": "python3"
  },
  "language_info": {
   "codemirror_mode": {
    "name": "ipython",
    "version": 3
   },
   "file_extension": ".py",
   "mimetype": "text/x-python",
   "name": "python",
   "nbconvert_exporter": "python",
   "pygments_lexer": "ipython3",
   "version": "3.7.0"
  }
 },
 "nbformat": 4,
 "nbformat_minor": 5
}
